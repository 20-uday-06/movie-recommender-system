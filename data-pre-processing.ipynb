{
 "cells": [
  {
   "cell_type": "code",
   "execution_count": 41,
   "metadata": {},
   "outputs": [],
   "source": [
    "import numpy as np \n",
    "import pandas as pd "
   ]
  },
  {
   "cell_type": "code",
   "execution_count": 42,
   "metadata": {},
   "outputs": [],
   "source": [
    "movies = pd.read_csv('data_set.csv')\n",
    "copy = pd.read_csv('data_copy.csv')\n",
    "movies = copy\n",
    "movies = movies.dropna()\n",
    "movies = movies.drop_duplicates()\n",
    "#type\n",
    "#title\n",
    "#director\n",
    "#cast -> top3\n",
    "#country\n",
    "#rating\n",
    "#listed in\n",
    "#description\n",
    "#remove show_id , not top3 cast , date_added , release_year, duration from movies\n",
    "movies = movies.drop(['date_added', 'release_year', 'duration'], axis=1)\n",
    "# movies.isnull().sum()\n"
   ]
  },
  {
   "cell_type": "code",
   "execution_count": 43,
   "metadata": {},
   "outputs": [],
   "source": [
    "def convert (obj):\n",
    "    L = []\n",
    "    c=0\n",
    "    for i in obj:\n",
    "        if c!=3:\n",
    "            L.append(i)\n",
    "            c+=1\n",
    "        else:\n",
    "            break\n",
    "    return L\n"
   ]
  },
  {
   "cell_type": "code",
   "execution_count": 44,
   "metadata": {},
   "outputs": [],
   "source": [
    "movies['cast'] = movies['cast'].apply(lambda x: convert(x.split(',')) if isinstance(x, str) else x)\n",
    "movies['director'] = movies['director'].apply(lambda x: convert(x.split(',')) if isinstance(x, str) else x)\n",
    "movies['country'] = movies['country'].apply(lambda x: convert(x.split(',')) if isinstance(x, str) else x)\n",
    "movies['rating'] = movies['rating'].apply(lambda x: convert(x.split(',')) if isinstance(x, str) else x)\n",
    "# movies['listed_in'] = movies['listed_in'].apply(lambda x: convert(x.split(',')) if isinstance(x, str) else x)\n",
    "# movies['description'] = movies['description'].apply(lambda x: convert(x.split(',')) if isinstance(x, str) else x)\n",
    "movies['cast'] = movies['cast'].apply(convert)\n",
    "# movies['description']"
   ]
  },
  {
   "cell_type": "code",
   "execution_count": 45,
   "metadata": {},
   "outputs": [],
   "source": [
    "# movies['cast'] = movies['cast'].apply(\n",
    "#     lambda x: [name.strip() for name in x] if isinstance(x, list) else x\n",
    "# )\n",
    "# #convert cast to string\n",
    "# movies['cast'] = movies['cast'].apply(lambda x: ', '.join(x) if isinstance(x, list) else x)\n",
    "\n",
    "# movies.head(1)\n"
   ]
  },
  {
   "cell_type": "code",
   "execution_count": 46,
   "metadata": {},
   "outputs": [],
   "source": [
    "def collapse(L):\n",
    "    L1 = []\n",
    "    for i in L:\n",
    "        L1.append(i.replace(\" \",\"\"))\n",
    "    return L1"
   ]
  },
  {
   "cell_type": "code",
   "execution_count": 47,
   "metadata": {},
   "outputs": [],
   "source": [
    "movies['cast'] = movies['cast'].apply(collapse)\n",
    "movies['director'] = movies['director'].apply(collapse)\n",
    "movies['country'] = movies['country'].apply(collapse)\n",
    "movies['rating'] = movies['rating'].apply(collapse)\n",
    "# movies.head(1)"
   ]
  },
  {
   "cell_type": "code",
   "execution_count": 48,
   "metadata": {},
   "outputs": [],
   "source": [
    "movies['description'] = movies['description'].apply(lambda x:x.split())\n",
    "# movies"
   ]
  },
  {
   "cell_type": "code",
   "execution_count": 49,
   "metadata": {},
   "outputs": [],
   "source": [
    "movies['tags'] = movies['type'] + ' ' + movies['description'].apply(' '.join) + ' ' + movies['cast'].apply(' '.join) + ' ' + movies['director'].apply(' '.join) + ' ' + movies['country'].apply(' '.join) + ' ' + movies['rating'].apply(' '.join) + ' ' + movies['listed_in']\n",
    "new = movies.drop(['type', 'description', 'cast', 'director', 'country', 'rating', 'listed_in'], axis=1)\n",
    "movies = new\n",
    "# movies"
   ]
  },
  {
   "cell_type": "code",
   "execution_count": 50,
   "metadata": {},
   "outputs": [],
   "source": [
    "from sklearn.feature_extraction.text import CountVectorizer\n",
    "cv = CountVectorizer(max_features=6000,stop_words='english')\n",
    "    "
   ]
  },
  {
   "cell_type": "code",
   "execution_count": 51,
   "metadata": {},
   "outputs": [
    {
     "data": {
      "text/plain": [
       "(5332, 6000)"
      ]
     },
     "execution_count": 51,
     "metadata": {},
     "output_type": "execute_result"
    }
   ],
   "source": [
    "vector = cv.fit_transform(movies['tags']).toarray()\n",
    "vector.shape"
   ]
  },
  {
   "cell_type": "code",
   "execution_count": 52,
   "metadata": {},
   "outputs": [],
   "source": [
    "from sklearn.metrics.pairwise import cosine_similarity"
   ]
  },
  {
   "cell_type": "code",
   "execution_count": 53,
   "metadata": {},
   "outputs": [],
   "source": [
    "similarity = cosine_similarity(vector)\n",
    "# similarity[1]"
   ]
  },
  {
   "cell_type": "code",
   "execution_count": 54,
   "metadata": {},
   "outputs": [],
   "source": [
    "#lowercae all the titles\n",
    "movies['title'] = movies['title'].apply(lambda x:x.lower())\n"
   ]
  },
  {
   "cell_type": "code",
   "execution_count": 55,
   "metadata": {},
   "outputs": [],
   "source": [
    "#resert the indes\n",
    "movies = movies.reset_index(drop=True)\n"
   ]
  },
  {
   "cell_type": "code",
   "execution_count": 56,
   "metadata": {},
   "outputs": [],
   "source": [
    "def recommend(movie):\n",
    "    #lowercase the movie\n",
    "    movie = movie.lower()\n",
    "    index = movies[movies['title'] == movie].index[0]\n",
    "    distances = sorted(list(enumerate(similarity[index])),reverse=True,key = lambda x: x[1])\n",
    "    for i in distances[1:6]:\n",
    "        print(new.iloc[i[0]].title)"
   ]
  },
  {
   "cell_type": "code",
   "execution_count": 57,
   "metadata": {},
   "outputs": [
    {
     "name": "stdout",
     "output_type": "stream",
     "text": [
      "christmas with the kranks\n",
      "the croods\n",
      "beethoven's 2nd\n",
      "monster house\n",
      "liar, liar, vampire\n"
     ]
    }
   ],
   "source": [
    "movie = 'zoom'\n",
    "if movie in movies['title'].values:\n",
    "    recommend(movie) \n",
    "else:\n",
    "    print(\"Movie not found!\")  \n"
   ]
  },
  {
   "cell_type": "code",
   "execution_count": 58,
   "metadata": {},
   "outputs": [],
   "source": [
    "import pickle"
   ]
  },
  {
   "cell_type": "code",
   "execution_count": 60,
   "metadata": {},
   "outputs": [],
   "source": [
    "pickle.dump(movies,open('movie_list.pkl','wb'))\n",
    "pickle.dump(similarity,open('similarity.pkl','wb'))"
   ]
  }
 ],
 "metadata": {
  "kernelspec": {
   "display_name": "Python 3",
   "language": "python",
   "name": "python3"
  },
  "language_info": {
   "codemirror_mode": {
    "name": "ipython",
    "version": 3
   },
   "file_extension": ".py",
   "mimetype": "text/x-python",
   "name": "python",
   "nbconvert_exporter": "python",
   "pygments_lexer": "ipython3",
   "version": "3.12.3"
  }
 },
 "nbformat": 4,
 "nbformat_minor": 2
}
